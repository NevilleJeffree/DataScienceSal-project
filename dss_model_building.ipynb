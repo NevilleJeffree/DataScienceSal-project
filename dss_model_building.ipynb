{
  "nbformat": 4,
  "nbformat_minor": 0,
  "metadata": {
    "colab": {
      "name": "dss-model_building.ipynb",
      "provenance": [],
      "collapsed_sections": []
    },
    "kernelspec": {
      "name": "python3",
      "display_name": "Python 3"
    },
    "language_info": {
      "name": "python"
    }
  },
  "cells": [
    {
      "cell_type": "code",
      "execution_count": 60,
      "metadata": {
        "id": "girnFuk-pT4S"
      },
      "outputs": [],
      "source": [
        "import pandas as pd\n",
        "import numpy as np\n",
        "import matplotlib.pyplot as plt\n",
        "from sklearn.model_selection import train_test_split\n",
        "import statsmodels.api as sm\n",
        "from sklearn.linear_model import LinearRegression, Lasso\n",
        "from sklearn.model_selection import cross_val_score, GridSearchCV\n",
        "from sklearn.ensemble import RandomForestRegressor\n",
        "from sklearn.metrics import mean_absolute_error"
      ]
    },
    {
      "cell_type": "code",
      "source": [
        "df = pd.read_csv('/content/drive/MyDrive/Dataset/eda_data.csv')"
      ],
      "metadata": {
        "id": "2nde_M-8pouJ"
      },
      "execution_count": 22,
      "outputs": []
    },
    {
      "cell_type": "code",
      "source": [
        "df.columns"
      ],
      "metadata": {
        "colab": {
          "base_uri": "https://localhost:8080/"
        },
        "id": "IQCh4N_DrUf4",
        "outputId": "e08a0cd5-1cfa-4f44-aa81-865494409baa"
      },
      "execution_count": 23,
      "outputs": [
        {
          "output_type": "execute_result",
          "data": {
            "text/plain": [
              "Index(['Unnamed: 0', 'Job Title', 'Salary Estimate', 'Job Description',\n",
              "       'Rating', 'Company Name', 'Location', 'Headquarters', 'Size', 'Founded',\n",
              "       'Type of ownership', 'Industry', 'Sector', 'Revenue', 'Competitors',\n",
              "       'hourly', 'employer_provided', 'min_salary', 'max_salary', 'avg_salary',\n",
              "       'company_txt', 'job_state', 'same_state', 'age', 'python_yn', 'R_yn',\n",
              "       'spark', 'aws', 'excel', 'job_simp', 'seniority', 'desc_len',\n",
              "       'num_comp'],\n",
              "      dtype='object')"
            ]
          },
          "metadata": {},
          "execution_count": 23
        }
      ]
    },
    {
      "cell_type": "code",
      "source": [
        "# Choose relevent columns\n",
        "df_model = df[['avg_salary', 'Rating', 'Size', 'Type of ownership', 'Industry', 'Sector', 'Revenue', 'num_comp', 'hourly', 'employer_provided', 'job_state', 'same_state', 'age', 'python_yn', 'aws', 'excel', 'job_simp', 'seniority', 'desc_len']]"
      ],
      "metadata": {
        "id": "ldaaKDHBqayl"
      },
      "execution_count": 24,
      "outputs": []
    },
    {
      "cell_type": "code",
      "source": [
        "# Get dummy data\n",
        "df_dum = pd.get_dummies(df_model)"
      ],
      "metadata": {
        "id": "2wU64bTSr6wd"
      },
      "execution_count": 25,
      "outputs": []
    },
    {
      "cell_type": "code",
      "source": [
        "# Train Test Split data\n",
        "X = df_dum.drop('avg_salary', axis = 1)\n",
        "y = df_dum.avg_salary.values\n",
        "X_train, X_test, y_train, y_test = train_test_split(X, y, test_size=0.2, random_state = 42)"
      ],
      "metadata": {
        "id": "QZvt-_wxsZfM"
      },
      "execution_count": 29,
      "outputs": []
    },
    {
      "cell_type": "code",
      "source": [
        "# Multiple linear regression\n",
        "X_sm = sm.add_constant(X)\n",
        "model = sm.OLS(y,X_sm)\n",
        "model.fit().summary()"
      ],
      "metadata": {
        "colab": {
          "base_uri": "https://localhost:8080/",
          "height": 1000
        },
        "id": "ADuKx7I7tbak",
        "outputId": "8b4b7a65-ce05-4b37-d70d-9730b1f91a9d"
      },
      "execution_count": 30,
      "outputs": [
        {
          "output_type": "execute_result",
          "data": {
            "text/html": [
              "<table class=\"simpletable\">\n",
              "<caption>OLS Regression Results</caption>\n",
              "<tr>\n",
              "  <th>Dep. Variable:</th>            <td>y</td>        <th>  R-squared:         </th> <td>   0.708</td>\n",
              "</tr>\n",
              "<tr>\n",
              "  <th>Model:</th>                   <td>OLS</td>       <th>  Adj. R-squared:    </th> <td>   0.639</td>\n",
              "</tr>\n",
              "<tr>\n",
              "  <th>Method:</th>             <td>Least Squares</td>  <th>  F-statistic:       </th> <td>   10.30</td>\n",
              "</tr>\n",
              "<tr>\n",
              "  <th>Date:</th>             <td>Mon, 27 Dec 2021</td> <th>  Prob (F-statistic):</th> <td>4.63e-95</td>\n",
              "</tr>\n",
              "<tr>\n",
              "  <th>Time:</th>                 <td>07:25:07</td>     <th>  Log-Likelihood:    </th> <td> -3311.7</td>\n",
              "</tr>\n",
              "<tr>\n",
              "  <th>No. Observations:</th>      <td>   742</td>      <th>  AIC:               </th> <td>   6907.</td>\n",
              "</tr>\n",
              "<tr>\n",
              "  <th>Df Residuals:</th>          <td>   600</td>      <th>  BIC:               </th> <td>   7562.</td>\n",
              "</tr>\n",
              "<tr>\n",
              "  <th>Df Model:</th>              <td>   141</td>      <th>                     </th>     <td> </td>   \n",
              "</tr>\n",
              "<tr>\n",
              "  <th>Covariance Type:</th>      <td>nonrobust</td>    <th>                     </th>     <td> </td>   \n",
              "</tr>\n",
              "</table>\n",
              "<table class=\"simpletable\">\n",
              "<tr>\n",
              "                          <td></td>                             <th>coef</th>     <th>std err</th>      <th>t</th>      <th>P>|t|</th>  <th>[0.025</th>    <th>0.975]</th>  \n",
              "</tr>\n",
              "<tr>\n",
              "  <th>const</th>                                             <td>   43.6577</td> <td>    6.710</td> <td>    6.507</td> <td> 0.000</td> <td>   30.480</td> <td>   56.835</td>\n",
              "</tr>\n",
              "<tr>\n",
              "  <th>Rating</th>                                            <td>    3.5959</td> <td>    1.935</td> <td>    1.859</td> <td> 0.064</td> <td>   -0.204</td> <td>    7.396</td>\n",
              "</tr>\n",
              "<tr>\n",
              "  <th>num_comp</th>                                          <td>    2.2513</td> <td>    0.867</td> <td>    2.595</td> <td> 0.010</td> <td>    0.548</td> <td>    3.955</td>\n",
              "</tr>\n",
              "<tr>\n",
              "  <th>hourly</th>                                            <td>  -36.4429</td> <td>    9.145</td> <td>   -3.985</td> <td> 0.000</td> <td>  -54.402</td> <td>  -18.483</td>\n",
              "</tr>\n",
              "<tr>\n",
              "  <th>employer_provided</th>                                 <td>   31.4893</td> <td>   11.500</td> <td>    2.738</td> <td> 0.006</td> <td>    8.905</td> <td>   54.074</td>\n",
              "</tr>\n",
              "<tr>\n",
              "  <th>same_state</th>                                        <td>    2.5077</td> <td>    2.614</td> <td>    0.959</td> <td> 0.338</td> <td>   -2.627</td> <td>    7.642</td>\n",
              "</tr>\n",
              "<tr>\n",
              "  <th>age</th>                                               <td>    0.0351</td> <td>    0.030</td> <td>    1.169</td> <td> 0.243</td> <td>   -0.024</td> <td>    0.094</td>\n",
              "</tr>\n",
              "<tr>\n",
              "  <th>python_yn</th>                                         <td>    8.0632</td> <td>    2.493</td> <td>    3.235</td> <td> 0.001</td> <td>    3.168</td> <td>   12.959</td>\n",
              "</tr>\n",
              "<tr>\n",
              "  <th>aws</th>                                               <td>    1.0365</td> <td>    2.699</td> <td>    0.384</td> <td> 0.701</td> <td>   -4.263</td> <td>    6.336</td>\n",
              "</tr>\n",
              "<tr>\n",
              "  <th>excel</th>                                             <td>   -0.3853</td> <td>    2.264</td> <td>   -0.170</td> <td> 0.865</td> <td>   -4.831</td> <td>    4.060</td>\n",
              "</tr>\n",
              "<tr>\n",
              "  <th>desc_len</th>                                          <td>   -0.0001</td> <td>    0.001</td> <td>   -0.184</td> <td> 0.854</td> <td>   -0.002</td> <td>    0.001</td>\n",
              "</tr>\n",
              "<tr>\n",
              "  <th>Size_-1</th>                                           <td>   13.5937</td> <td>    8.622</td> <td>    1.577</td> <td> 0.115</td> <td>   -3.338</td> <td>   30.526</td>\n",
              "</tr>\n",
              "<tr>\n",
              "  <th>Size_1 to 50 employees</th>                            <td>    1.1119</td> <td>    6.496</td> <td>    0.171</td> <td> 0.864</td> <td>  -11.645</td> <td>   13.869</td>\n",
              "</tr>\n",
              "<tr>\n",
              "  <th>Size_10000+ employees</th>                             <td>   -2.8045</td> <td>    5.782</td> <td>   -0.485</td> <td> 0.628</td> <td>  -14.159</td> <td>    8.550</td>\n",
              "</tr>\n",
              "<tr>\n",
              "  <th>Size_1001 to 5000 employees</th>                       <td>    6.0688</td> <td>    3.860</td> <td>    1.572</td> <td> 0.116</td> <td>   -1.512</td> <td>   13.650</td>\n",
              "</tr>\n",
              "<tr>\n",
              "  <th>Size_201 to 500 employees</th>                         <td>    2.2853</td> <td>    3.867</td> <td>    0.591</td> <td> 0.555</td> <td>   -5.310</td> <td>    9.881</td>\n",
              "</tr>\n",
              "<tr>\n",
              "  <th>Size_5001 to 10000 employees</th>                      <td>   -3.8863</td> <td>    5.436</td> <td>   -0.715</td> <td> 0.475</td> <td>  -14.562</td> <td>    6.789</td>\n",
              "</tr>\n",
              "<tr>\n",
              "  <th>Size_501 to 1000 employees</th>                        <td>    2.1933</td> <td>    4.056</td> <td>    0.541</td> <td> 0.589</td> <td>   -5.772</td> <td>   10.159</td>\n",
              "</tr>\n",
              "<tr>\n",
              "  <th>Size_51 to 200 employees</th>                          <td>    4.1809</td> <td>    4.417</td> <td>    0.947</td> <td> 0.344</td> <td>   -4.494</td> <td>   12.856</td>\n",
              "</tr>\n",
              "<tr>\n",
              "  <th>Size_Unknown</th>                                      <td>   20.9145</td> <td>   13.980</td> <td>    1.496</td> <td> 0.135</td> <td>   -6.540</td> <td>   48.369</td>\n",
              "</tr>\n",
              "<tr>\n",
              "  <th>Type of ownership_-1</th>                              <td>   13.5937</td> <td>    8.622</td> <td>    1.577</td> <td> 0.115</td> <td>   -3.338</td> <td>   30.526</td>\n",
              "</tr>\n",
              "<tr>\n",
              "  <th>Type of ownership_College / University</th>            <td>    6.5431</td> <td>   17.714</td> <td>    0.369</td> <td> 0.712</td> <td>  -28.245</td> <td>   41.331</td>\n",
              "</tr>\n",
              "<tr>\n",
              "  <th>Type of ownership_Company - Private</th>               <td>    8.5830</td> <td>    5.234</td> <td>    1.640</td> <td> 0.102</td> <td>   -1.697</td> <td>   18.863</td>\n",
              "</tr>\n",
              "<tr>\n",
              "  <th>Type of ownership_Company - Public</th>                <td>   13.2956</td> <td>    5.694</td> <td>    2.335</td> <td> 0.020</td> <td>    2.113</td> <td>   24.478</td>\n",
              "</tr>\n",
              "<tr>\n",
              "  <th>Type of ownership_Government</th>                      <td>  -15.4355</td> <td>   15.268</td> <td>   -1.011</td> <td> 0.312</td> <td>  -45.421</td> <td>   14.550</td>\n",
              "</tr>\n",
              "<tr>\n",
              "  <th>Type of ownership_Hospital</th>                        <td>   -7.2100</td> <td>    9.951</td> <td>   -0.725</td> <td> 0.469</td> <td>  -26.753</td> <td>   12.333</td>\n",
              "</tr>\n",
              "<tr>\n",
              "  <th>Type of ownership_Nonprofit Organization</th>          <td>   -9.7799</td> <td>    6.704</td> <td>   -1.459</td> <td> 0.145</td> <td>  -22.946</td> <td>    3.387</td>\n",
              "</tr>\n",
              "<tr>\n",
              "  <th>Type of ownership_Other Organization</th>              <td>   -5.8549</td> <td>   14.317</td> <td>   -0.409</td> <td> 0.683</td> <td>  -33.973</td> <td>   22.263</td>\n",
              "</tr>\n",
              "<tr>\n",
              "  <th>Type of ownership_School / School District</th>        <td>   -5.9079</td> <td>   23.768</td> <td>   -0.249</td> <td> 0.804</td> <td>  -52.586</td> <td>   40.770</td>\n",
              "</tr>\n",
              "<tr>\n",
              "  <th>Type of ownership_Subsidiary or Business Segment</th>  <td>   12.7813</td> <td>    6.922</td> <td>    1.846</td> <td> 0.065</td> <td>   -0.813</td> <td>   26.376</td>\n",
              "</tr>\n",
              "<tr>\n",
              "  <th>Type of ownership_Unknown</th>                         <td>   33.0491</td> <td>   28.580</td> <td>    1.156</td> <td> 0.248</td> <td>  -23.079</td> <td>   89.177</td>\n",
              "</tr>\n",
              "<tr>\n",
              "  <th>Industry_-1</th>                                       <td>    5.7763</td> <td>    7.923</td> <td>    0.729</td> <td> 0.466</td> <td>   -9.784</td> <td>   21.336</td>\n",
              "</tr>\n",
              "<tr>\n",
              "  <th>Industry_Accounting</th>                               <td>    2.1991</td> <td>   13.379</td> <td>    0.164</td> <td> 0.869</td> <td>  -24.077</td> <td>   28.475</td>\n",
              "</tr>\n",
              "<tr>\n",
              "  <th>Industry_Advertising & Marketing</th>                  <td>   11.6271</td> <td>    5.968</td> <td>    1.948</td> <td> 0.052</td> <td>   -0.095</td> <td>   23.349</td>\n",
              "</tr>\n",
              "<tr>\n",
              "  <th>Industry_Aerospace & Defense</th>                      <td>    5.5710</td> <td>    3.106</td> <td>    1.794</td> <td> 0.073</td> <td>   -0.529</td> <td>   11.671</td>\n",
              "</tr>\n",
              "<tr>\n",
              "  <th>Industry_Architectural & Engineering Services</th>     <td>  -32.3005</td> <td>   15.909</td> <td>   -2.030</td> <td> 0.043</td> <td>  -63.545</td> <td>   -1.056</td>\n",
              "</tr>\n",
              "<tr>\n",
              "  <th>Industry_Auctions & Galleries</th>                     <td>    9.2998</td> <td>   22.858</td> <td>    0.407</td> <td> 0.684</td> <td>  -35.593</td> <td>   54.192</td>\n",
              "</tr>\n",
              "<tr>\n",
              "  <th>Industry_Banks & Credit Unions</th>                    <td>  -16.9261</td> <td>    8.037</td> <td>   -2.106</td> <td> 0.036</td> <td>  -32.711</td> <td>   -1.142</td>\n",
              "</tr>\n",
              "<tr>\n",
              "  <th>Industry_Beauty & Personal Accessories Stores</th>     <td>   15.3727</td> <td>   21.542</td> <td>    0.714</td> <td> 0.476</td> <td>  -26.933</td> <td>   57.679</td>\n",
              "</tr>\n",
              "<tr>\n",
              "  <th>Industry_Biotech & Pharmaceuticals</th>                <td>    6.4242</td> <td>    2.043</td> <td>    3.145</td> <td> 0.002</td> <td>    2.412</td> <td>   10.436</td>\n",
              "</tr>\n",
              "<tr>\n",
              "  <th>Industry_Brokerage Services</th>                       <td>   28.2305</td> <td>   15.498</td> <td>    1.822</td> <td> 0.069</td> <td>   -2.206</td> <td>   58.667</td>\n",
              "</tr>\n",
              "<tr>\n",
              "  <th>Industry_Colleges & Universities</th>                  <td>   10.8439</td> <td>   12.966</td> <td>    0.836</td> <td> 0.403</td> <td>  -14.620</td> <td>   36.308</td>\n",
              "</tr>\n",
              "<tr>\n",
              "  <th>Industry_Computer Hardware & Software</th>             <td>   -0.9062</td> <td>    3.246</td> <td>   -0.279</td> <td> 0.780</td> <td>   -7.280</td> <td>    5.468</td>\n",
              "</tr>\n",
              "<tr>\n",
              "  <th>Industry_Construction</th>                             <td>  -15.6657</td> <td>   10.538</td> <td>   -1.487</td> <td> 0.138</td> <td>  -36.362</td> <td>    5.030</td>\n",
              "</tr>\n",
              "<tr>\n",
              "  <th>Industry_Consulting</th>                               <td>   12.8821</td> <td>    5.889</td> <td>    2.187</td> <td> 0.029</td> <td>    1.316</td> <td>   24.449</td>\n",
              "</tr>\n",
              "<tr>\n",
              "  <th>Industry_Consumer Product Rental</th>                  <td>   -2.5133</td> <td>   13.001</td> <td>   -0.193</td> <td> 0.847</td> <td>  -28.047</td> <td>   23.021</td>\n",
              "</tr>\n",
              "<tr>\n",
              "  <th>Industry_Consumer Products Manufacturing</th>          <td>   13.9898</td> <td>    9.813</td> <td>    1.426</td> <td> 0.154</td> <td>   -5.281</td> <td>   33.261</td>\n",
              "</tr>\n",
              "<tr>\n",
              "  <th>Industry_Department, Clothing, & Shoe Stores</th>      <td>    4.7257</td> <td>   11.571</td> <td>    0.408</td> <td> 0.683</td> <td>  -17.999</td> <td>   27.450</td>\n",
              "</tr>\n",
              "<tr>\n",
              "  <th>Industry_Education Training Services</th>              <td>  -23.3037</td> <td>   12.481</td> <td>   -1.867</td> <td> 0.062</td> <td>  -47.816</td> <td>    1.208</td>\n",
              "</tr>\n",
              "<tr>\n",
              "  <th>Industry_Energy</th>                                   <td>   -4.0706</td> <td>    7.648</td> <td>   -0.532</td> <td> 0.595</td> <td>  -19.090</td> <td>   10.949</td>\n",
              "</tr>\n",
              "<tr>\n",
              "  <th>Industry_Enterprise Software & Network Solutions</th>  <td>    9.5405</td> <td>    3.584</td> <td>    2.662</td> <td> 0.008</td> <td>    2.502</td> <td>   16.579</td>\n",
              "</tr>\n",
              "<tr>\n",
              "  <th>Industry_Farm Support Services</th>                    <td>   -0.9100</td> <td>   12.642</td> <td>   -0.072</td> <td> 0.943</td> <td>  -25.738</td> <td>   23.918</td>\n",
              "</tr>\n",
              "<tr>\n",
              "  <th>Industry_Federal Agencies</th>                         <td>    8.0396</td> <td>    5.259</td> <td>    1.529</td> <td> 0.127</td> <td>   -2.288</td> <td>   18.367</td>\n",
              "</tr>\n",
              "<tr>\n",
              "  <th>Industry_Financial Analytics & Research</th>           <td>    0.3327</td> <td>    9.188</td> <td>    0.036</td> <td> 0.971</td> <td>  -17.712</td> <td>   18.378</td>\n",
              "</tr>\n",
              "<tr>\n",
              "  <th>Industry_Financial Transaction Processing</th>         <td>  -17.6747</td> <td>   12.854</td> <td>   -1.375</td> <td> 0.170</td> <td>  -42.918</td> <td>    7.569</td>\n",
              "</tr>\n",
              "<tr>\n",
              "  <th>Industry_Food & Beverage Manufacturing</th>            <td>   -3.1508</td> <td>   11.569</td> <td>   -0.272</td> <td> 0.785</td> <td>  -25.872</td> <td>   19.570</td>\n",
              "</tr>\n",
              "<tr>\n",
              "  <th>Industry_Gambling</th>                                 <td>   -9.1835</td> <td>    6.511</td> <td>   -1.410</td> <td> 0.159</td> <td>  -21.971</td> <td>    3.604</td>\n",
              "</tr>\n",
              "<tr>\n",
              "  <th>Industry_Gas Stations</th>                             <td>  -24.3942</td> <td>   15.526</td> <td>   -1.571</td> <td> 0.117</td> <td>  -54.886</td> <td>    6.098</td>\n",
              "</tr>\n",
              "<tr>\n",
              "  <th>Industry_Health Care Products Manufacturing</th>       <td>   21.1794</td> <td>   22.085</td> <td>    0.959</td> <td> 0.338</td> <td>  -22.194</td> <td>   64.552</td>\n",
              "</tr>\n",
              "<tr>\n",
              "  <th>Industry_Health Care Services & Hospitals</th>         <td>    5.9049</td> <td>    2.907</td> <td>    2.031</td> <td> 0.043</td> <td>    0.195</td> <td>   11.614</td>\n",
              "</tr>\n",
              "<tr>\n",
              "  <th>Industry_Health, Beauty, & Fitness</th>                <td>   -2.1009</td> <td>   17.402</td> <td>   -0.121</td> <td> 0.904</td> <td>  -36.278</td> <td>   32.076</td>\n",
              "</tr>\n",
              "<tr>\n",
              "  <th>Industry_IT Services</th>                              <td>    1.2725</td> <td>    3.566</td> <td>    0.357</td> <td> 0.721</td> <td>   -5.731</td> <td>    8.276</td>\n",
              "</tr>\n",
              "<tr>\n",
              "  <th>Industry_Industrial Manufacturing</th>                 <td>  -13.6982</td> <td>   12.807</td> <td>   -1.070</td> <td> 0.285</td> <td>  -38.850</td> <td>   11.454</td>\n",
              "</tr>\n",
              "<tr>\n",
              "  <th>Industry_Insurance Agencies & Brokerages</th>          <td>   -3.7959</td> <td>    6.976</td> <td>   -0.544</td> <td> 0.587</td> <td>  -17.495</td> <td>    9.904</td>\n",
              "</tr>\n",
              "<tr>\n",
              "  <th>Industry_Insurance Carriers</th>                       <td>    5.5060</td> <td>    4.469</td> <td>    1.232</td> <td> 0.218</td> <td>   -3.271</td> <td>   14.283</td>\n",
              "</tr>\n",
              "<tr>\n",
              "  <th>Industry_Internet</th>                                 <td>    0.1831</td> <td>    4.414</td> <td>    0.041</td> <td> 0.967</td> <td>   -8.486</td> <td>    8.852</td>\n",
              "</tr>\n",
              "<tr>\n",
              "  <th>Industry_Investment Banking & Asset Management</th>    <td>   35.9143</td> <td>   12.073</td> <td>    2.975</td> <td> 0.003</td> <td>   12.204</td> <td>   59.624</td>\n",
              "</tr>\n",
              "<tr>\n",
              "  <th>Industry_K-12 Education</th>                           <td>   10.1361</td> <td>   14.766</td> <td>    0.686</td> <td> 0.493</td> <td>  -18.863</td> <td>   39.135</td>\n",
              "</tr>\n",
              "<tr>\n",
              "  <th>Industry_Lending</th>                                  <td>   -1.5338</td> <td>    9.853</td> <td>   -0.156</td> <td> 0.876</td> <td>  -20.885</td> <td>   17.818</td>\n",
              "</tr>\n",
              "<tr>\n",
              "  <th>Industry_Logistics & Supply Chain</th>                 <td>    1.5259</td> <td>   13.383</td> <td>    0.114</td> <td> 0.909</td> <td>  -24.758</td> <td>   27.810</td>\n",
              "</tr>\n",
              "<tr>\n",
              "  <th>Industry_Metals Brokers</th>                           <td>   -7.9153</td> <td>   15.595</td> <td>   -0.508</td> <td> 0.612</td> <td>  -38.544</td> <td>   22.713</td>\n",
              "</tr>\n",
              "<tr>\n",
              "  <th>Industry_Mining</th>                                   <td>   -3.4575</td> <td>   17.948</td> <td>   -0.193</td> <td> 0.847</td> <td>  -38.706</td> <td>   31.791</td>\n",
              "</tr>\n",
              "<tr>\n",
              "  <th>Industry_Motion Picture Production & Distribution</th> <td>   46.1804</td> <td>   19.578</td> <td>    2.359</td> <td> 0.019</td> <td>    7.731</td> <td>   84.630</td>\n",
              "</tr>\n",
              "<tr>\n",
              "  <th>Industry_Other Retail Stores</th>                      <td>   40.1019</td> <td>   21.672</td> <td>    1.850</td> <td> 0.065</td> <td>   -2.460</td> <td>   82.664</td>\n",
              "</tr>\n",
              "<tr>\n",
              "  <th>Industry_Real Estate</th>                              <td>   -2.3258</td> <td>    4.956</td> <td>   -0.469</td> <td> 0.639</td> <td>  -12.059</td> <td>    7.407</td>\n",
              "</tr>\n",
              "<tr>\n",
              "  <th>Industry_Religious Organizations</th>                  <td>   25.9297</td> <td>   13.697</td> <td>    1.893</td> <td> 0.059</td> <td>   -0.970</td> <td>   52.830</td>\n",
              "</tr>\n",
              "<tr>\n",
              "  <th>Industry_Research & Development</th>                   <td>   -3.0764</td> <td>    6.535</td> <td>   -0.471</td> <td> 0.638</td> <td>  -15.912</td> <td>    9.759</td>\n",
              "</tr>\n",
              "<tr>\n",
              "  <th>Industry_Security Services</th>                        <td>   14.1757</td> <td>    9.743</td> <td>    1.455</td> <td> 0.146</td> <td>   -4.959</td> <td>   33.311</td>\n",
              "</tr>\n",
              "<tr>\n",
              "  <th>Industry_Social Assistance</th>                        <td>  -11.1123</td> <td>   11.774</td> <td>   -0.944</td> <td> 0.346</td> <td>  -34.236</td> <td>   12.012</td>\n",
              "</tr>\n",
              "<tr>\n",
              "  <th>Industry_Sporting Goods Stores</th>                    <td>  -37.2211</td> <td>   17.839</td> <td>   -2.086</td> <td> 0.037</td> <td>  -72.256</td> <td>   -2.186</td>\n",
              "</tr>\n",
              "<tr>\n",
              "  <th>Industry_Staffing & Outsourcing</th>                   <td>   -5.3904</td> <td>   11.008</td> <td>   -0.490</td> <td> 0.625</td> <td>  -27.009</td> <td>   16.228</td>\n",
              "</tr>\n",
              "<tr>\n",
              "  <th>Industry_Stock Exchanges</th>                          <td>  -15.1430</td> <td>    7.884</td> <td>   -1.921</td> <td> 0.055</td> <td>  -30.626</td> <td>    0.340</td>\n",
              "</tr>\n",
              "<tr>\n",
              "  <th>Industry_TV Broadcast & Cable Networks</th>            <td>   -0.1537</td> <td>   15.506</td> <td>   -0.010</td> <td> 0.992</td> <td>  -30.607</td> <td>   30.300</td>\n",
              "</tr>\n",
              "<tr>\n",
              "  <th>Industry_Telecommunications Manufacturing</th>         <td>    4.1085</td> <td>   13.654</td> <td>    0.301</td> <td> 0.764</td> <td>  -22.706</td> <td>   30.923</td>\n",
              "</tr>\n",
              "<tr>\n",
              "  <th>Industry_Telecommunications Services</th>              <td>    0.0403</td> <td>   11.246</td> <td>    0.004</td> <td> 0.997</td> <td>  -22.047</td> <td>   22.127</td>\n",
              "</tr>\n",
              "<tr>\n",
              "  <th>Industry_Transportation Equipment Manufacturing</th>   <td>  -19.8819</td> <td>   23.581</td> <td>   -0.843</td> <td> 0.399</td> <td>  -66.193</td> <td>   26.429</td>\n",
              "</tr>\n",
              "<tr>\n",
              "  <th>Industry_Transportation Management</th>                <td>  -20.5100</td> <td>   13.987</td> <td>   -1.466</td> <td> 0.143</td> <td>  -47.979</td> <td>    6.959</td>\n",
              "</tr>\n",
              "<tr>\n",
              "  <th>Industry_Travel Agencies</th>                          <td>   -5.4751</td> <td>    5.247</td> <td>   -1.043</td> <td> 0.297</td> <td>  -15.781</td> <td>    4.830</td>\n",
              "</tr>\n",
              "<tr>\n",
              "  <th>Industry_Trucking</th>                                 <td>   22.7129</td> <td>   19.826</td> <td>    1.146</td> <td> 0.252</td> <td>  -16.223</td> <td>   61.649</td>\n",
              "</tr>\n",
              "<tr>\n",
              "  <th>Industry_Video Games</th>                              <td>  -30.1161</td> <td>   14.419</td> <td>   -2.089</td> <td> 0.037</td> <td>  -58.434</td> <td>   -1.798</td>\n",
              "</tr>\n",
              "<tr>\n",
              "  <th>Industry_Wholesale</th>                                <td>   -2.1618</td> <td>   13.093</td> <td>   -0.165</td> <td> 0.869</td> <td>  -27.876</td> <td>   23.553</td>\n",
              "</tr>\n",
              "<tr>\n",
              "  <th>Sector_-1</th>                                         <td>    5.7763</td> <td>    7.923</td> <td>    0.729</td> <td> 0.466</td> <td>   -9.784</td> <td>   21.336</td>\n",
              "</tr>\n",
              "<tr>\n",
              "  <th>Sector_Accounting & Legal</th>                         <td>    2.1991</td> <td>   13.379</td> <td>    0.164</td> <td> 0.869</td> <td>  -24.077</td> <td>   28.475</td>\n",
              "</tr>\n",
              "<tr>\n",
              "  <th>Sector_Aerospace & Defense</th>                        <td>    5.5710</td> <td>    3.106</td> <td>    1.794</td> <td> 0.073</td> <td>   -0.529</td> <td>   11.671</td>\n",
              "</tr>\n",
              "<tr>\n",
              "  <th>Sector_Agriculture & Forestry</th>                     <td>   -0.9100</td> <td>   12.642</td> <td>   -0.072</td> <td> 0.943</td> <td>  -25.738</td> <td>   23.918</td>\n",
              "</tr>\n",
              "<tr>\n",
              "  <th>Sector_Arts, Entertainment & Recreation</th>           <td>   -9.1835</td> <td>    6.511</td> <td>   -1.410</td> <td> 0.159</td> <td>  -21.971</td> <td>    3.604</td>\n",
              "</tr>\n",
              "<tr>\n",
              "  <th>Sector_Biotech & Pharmaceuticals</th>                  <td>    6.4242</td> <td>    2.043</td> <td>    3.145</td> <td> 0.002</td> <td>    2.412</td> <td>   10.436</td>\n",
              "</tr>\n",
              "<tr>\n",
              "  <th>Sector_Business Services</th>                          <td>   -4.2444</td> <td>    4.209</td> <td>   -1.008</td> <td> 0.314</td> <td>  -12.510</td> <td>    4.022</td>\n",
              "</tr>\n",
              "<tr>\n",
              "  <th>Sector_Construction, Repair & Maintenance</th>         <td>  -15.6657</td> <td>   10.538</td> <td>   -1.487</td> <td> 0.138</td> <td>  -36.362</td> <td>    5.030</td>\n",
              "</tr>\n",
              "<tr>\n",
              "  <th>Sector_Consumer Services</th>                          <td>   -4.6142</td> <td>    9.408</td> <td>   -0.490</td> <td> 0.624</td> <td>  -23.090</td> <td>   13.862</td>\n",
              "</tr>\n",
              "<tr>\n",
              "  <th>Sector_Education</th>                                  <td>   -2.3237</td> <td>    6.804</td> <td>   -0.341</td> <td> 0.733</td> <td>  -15.687</td> <td>   11.040</td>\n",
              "</tr>\n",
              "<tr>\n",
              "  <th>Sector_Finance</th>                                    <td>   13.1999</td> <td>    4.515</td> <td>    2.924</td> <td> 0.004</td> <td>    4.333</td> <td>   22.067</td>\n",
              "</tr>\n",
              "<tr>\n",
              "  <th>Sector_Government</th>                                 <td>    8.0396</td> <td>    5.259</td> <td>    1.529</td> <td> 0.127</td> <td>   -2.288</td> <td>   18.367</td>\n",
              "</tr>\n",
              "<tr>\n",
              "  <th>Sector_Health Care</th>                                <td>    5.9049</td> <td>    2.907</td> <td>    2.031</td> <td> 0.043</td> <td>    0.195</td> <td>   11.614</td>\n",
              "</tr>\n",
              "<tr>\n",
              "  <th>Sector_Information Technology</th>                     <td>   10.0899</td> <td>    2.761</td> <td>    3.654</td> <td> 0.000</td> <td>    4.667</td> <td>   15.513</td>\n",
              "</tr>\n",
              "<tr>\n",
              "  <th>Sector_Insurance</th>                                  <td>    1.7100</td> <td>    3.936</td> <td>    0.434</td> <td> 0.664</td> <td>   -6.021</td> <td>    9.441</td>\n",
              "</tr>\n",
              "<tr>\n",
              "  <th>Sector_Manufacturing</th>                              <td>   -1.5617</td> <td>    6.903</td> <td>   -0.226</td> <td> 0.821</td> <td>  -15.119</td> <td>   11.996</td>\n",
              "</tr>\n",
              "<tr>\n",
              "  <th>Sector_Media</th>                                      <td>   15.9106</td> <td>    8.718</td> <td>    1.825</td> <td> 0.068</td> <td>   -1.211</td> <td>   33.032</td>\n",
              "</tr>\n",
              "<tr>\n",
              "  <th>Sector_Mining & Metals</th>                            <td>  -11.3729</td> <td>   10.687</td> <td>   -1.064</td> <td> 0.288</td> <td>  -32.361</td> <td>    9.616</td>\n",
              "</tr>\n",
              "<tr>\n",
              "  <th>Sector_Non-Profit</th>                                 <td>   14.8174</td> <td>    8.889</td> <td>    1.667</td> <td> 0.096</td> <td>   -2.640</td> <td>   32.275</td>\n",
              "</tr>\n",
              "<tr>\n",
              "  <th>Sector_Oil, Gas, Energy & Utilities</th>               <td>   -4.0706</td> <td>    7.648</td> <td>   -0.532</td> <td> 0.595</td> <td>  -19.090</td> <td>   10.949</td>\n",
              "</tr>\n",
              "<tr>\n",
              "  <th>Sector_Real Estate</th>                                <td>   -2.3258</td> <td>    4.956</td> <td>   -0.469</td> <td> 0.639</td> <td>  -12.059</td> <td>    7.407</td>\n",
              "</tr>\n",
              "<tr>\n",
              "  <th>Sector_Retail</th>                                     <td>    7.8849</td> <td>    7.161</td> <td>    1.101</td> <td> 0.271</td> <td>   -6.178</td> <td>   21.948</td>\n",
              "</tr>\n",
              "<tr>\n",
              "  <th>Sector_Telecommunications</th>                         <td>    4.1488</td> <td>    7.759</td> <td>    0.535</td> <td> 0.593</td> <td>  -11.090</td> <td>   19.387</td>\n",
              "</tr>\n",
              "<tr>\n",
              "  <th>Sector_Transportation & Logistics</th>                 <td>    3.7288</td> <td>    8.006</td> <td>    0.466</td> <td> 0.642</td> <td>  -11.995</td> <td>   19.453</td>\n",
              "</tr>\n",
              "<tr>\n",
              "  <th>Sector_Travel & Tourism</th>                           <td>   -5.4751</td> <td>    5.247</td> <td>   -1.043</td> <td> 0.297</td> <td>  -15.781</td> <td>    4.830</td>\n",
              "</tr>\n",
              "<tr>\n",
              "  <th>Revenue_$1 to $2 billion (USD)</th>                    <td>    2.9127</td> <td>    4.796</td> <td>    0.607</td> <td> 0.544</td> <td>   -6.507</td> <td>   12.333</td>\n",
              "</tr>\n",
              "<tr>\n",
              "  <th>Revenue_$1 to $5 million (USD)</th>                    <td>   -5.4023</td> <td>   10.894</td> <td>   -0.496</td> <td> 0.620</td> <td>  -26.797</td> <td>   15.993</td>\n",
              "</tr>\n",
              "<tr>\n",
              "  <th>Revenue_$10 to $25 million (USD)</th>                  <td>   -4.8833</td> <td>    5.218</td> <td>   -0.936</td> <td> 0.350</td> <td>  -15.130</td> <td>    5.363</td>\n",
              "</tr>\n",
              "<tr>\n",
              "  <th>Revenue_$10+ billion (USD)</th>                        <td>   10.2980</td> <td>    6.373</td> <td>    1.616</td> <td> 0.107</td> <td>   -2.218</td> <td>   22.814</td>\n",
              "</tr>\n",
              "<tr>\n",
              "  <th>Revenue_$100 to $500 million (USD)</th>                <td>   -5.1775</td> <td>    4.051</td> <td>   -1.278</td> <td> 0.202</td> <td>  -13.133</td> <td>    2.778</td>\n",
              "</tr>\n",
              "<tr>\n",
              "  <th>Revenue_$2 to $5 billion (USD)</th>                    <td>    0.0682</td> <td>    6.230</td> <td>    0.011</td> <td> 0.991</td> <td>  -12.168</td> <td>   12.304</td>\n",
              "</tr>\n",
              "<tr>\n",
              "  <th>Revenue_$25 to $50 million (USD)</th>                  <td>   -5.2953</td> <td>    5.361</td> <td>   -0.988</td> <td> 0.324</td> <td>  -15.824</td> <td>    5.233</td>\n",
              "</tr>\n",
              "<tr>\n",
              "  <th>Revenue_$5 to $10 billion (USD)</th>                   <td>    6.6291</td> <td>    7.851</td> <td>    0.844</td> <td> 0.399</td> <td>   -8.789</td> <td>   22.047</td>\n",
              "</tr>\n",
              "<tr>\n",
              "  <th>Revenue_$5 to $10 million (USD)</th>                   <td>   31.7516</td> <td>    8.309</td> <td>    3.821</td> <td> 0.000</td> <td>   15.433</td> <td>   48.071</td>\n",
              "</tr>\n",
              "<tr>\n",
              "  <th>Revenue_$50 to $100 million (USD)</th>                 <td>    5.4805</td> <td>    4.943</td> <td>    1.109</td> <td> 0.268</td> <td>   -4.228</td> <td>   15.189</td>\n",
              "</tr>\n",
              "<tr>\n",
              "  <th>Revenue_$500 million to $1 billion (USD)</th>          <td>   -1.8545</td> <td>    5.280</td> <td>   -0.351</td> <td> 0.726</td> <td>  -12.224</td> <td>    8.515</td>\n",
              "</tr>\n",
              "<tr>\n",
              "  <th>Revenue_-1</th>                                        <td>   13.5937</td> <td>    8.622</td> <td>    1.577</td> <td> 0.115</td> <td>   -3.338</td> <td>   30.526</td>\n",
              "</tr>\n",
              "<tr>\n",
              "  <th>Revenue_Less than $1 million (USD)</th>                <td>   -4.1042</td> <td>   15.157</td> <td>   -0.271</td> <td> 0.787</td> <td>  -33.872</td> <td>   25.663</td>\n",
              "</tr>\n",
              "<tr>\n",
              "  <th>Revenue_Unknown / Non-Applicable</th>                  <td>   -0.3590</td> <td>    3.070</td> <td>   -0.117</td> <td> 0.907</td> <td>   -6.389</td> <td>    5.671</td>\n",
              "</tr>\n",
              "<tr>\n",
              "  <th>job_state_AL</th>                                      <td>   -5.9558</td> <td>   10.457</td> <td>   -0.570</td> <td> 0.569</td> <td>  -26.492</td> <td>   14.580</td>\n",
              "</tr>\n",
              "<tr>\n",
              "  <th>job_state_AZ</th>                                      <td>  -14.0735</td> <td>    8.615</td> <td>   -1.634</td> <td> 0.103</td> <td>  -30.994</td> <td>    2.847</td>\n",
              "</tr>\n",
              "<tr>\n",
              "  <th>job_state_CA</th>                                      <td>   26.6851</td> <td>    3.148</td> <td>    8.478</td> <td> 0.000</td> <td>   20.503</td> <td>   32.867</td>\n",
              "</tr>\n",
              "<tr>\n",
              "  <th>job_state_CO</th>                                      <td>    7.9220</td> <td>    8.284</td> <td>    0.956</td> <td> 0.339</td> <td>   -8.347</td> <td>   24.190</td>\n",
              "</tr>\n",
              "<tr>\n",
              "  <th>job_state_CT</th>                                      <td>  -23.6531</td> <td>   11.353</td> <td>   -2.083</td> <td> 0.038</td> <td>  -45.949</td> <td>   -1.357</td>\n",
              "</tr>\n",
              "<tr>\n",
              "  <th>job_state_DC</th>                                      <td>   13.7951</td> <td>    7.923</td> <td>    1.741</td> <td> 0.082</td> <td>   -1.765</td> <td>   29.355</td>\n",
              "</tr>\n",
              "<tr>\n",
              "  <th>job_state_DE</th>                                      <td>    9.2754</td> <td>   13.858</td> <td>    0.669</td> <td> 0.504</td> <td>  -17.941</td> <td>   36.492</td>\n",
              "</tr>\n",
              "<tr>\n",
              "  <th>job_state_FL</th>                                      <td>  -15.8400</td> <td>    7.628</td> <td>   -2.077</td> <td> 0.038</td> <td>  -30.820</td> <td>   -0.860</td>\n",
              "</tr>\n",
              "<tr>\n",
              "  <th>job_state_GA</th>                                      <td>  -18.4906</td> <td>   10.109</td> <td>   -1.829</td> <td> 0.068</td> <td>  -38.343</td> <td>    1.362</td>\n",
              "</tr>\n",
              "<tr>\n",
              "  <th>job_state_IA</th>                                      <td>   -2.3941</td> <td>   12.417</td> <td>   -0.193</td> <td> 0.847</td> <td>  -26.779</td> <td>   21.991</td>\n",
              "</tr>\n",
              "<tr>\n",
              "  <th>job_state_ID</th>                                      <td>  -24.4876</td> <td>   18.276</td> <td>   -1.340</td> <td> 0.181</td> <td>  -60.379</td> <td>   11.404</td>\n",
              "</tr>\n",
              "<tr>\n",
              "  <th>job_state_IL</th>                                      <td>    9.0771</td> <td>    5.030</td> <td>    1.805</td> <td> 0.072</td> <td>   -0.801</td> <td>   18.955</td>\n",
              "</tr>\n",
              "<tr>\n",
              "  <th>job_state_IN</th>                                      <td>  -10.3561</td> <td>    8.806</td> <td>   -1.176</td> <td> 0.240</td> <td>  -27.650</td> <td>    6.938</td>\n",
              "</tr>\n",
              "<tr>\n",
              "  <th>job_state_KS</th>                                      <td>  -15.1430</td> <td>    7.884</td> <td>   -1.921</td> <td> 0.055</td> <td>  -30.626</td> <td>    0.340</td>\n",
              "</tr>\n",
              "<tr>\n",
              "  <th>job_state_KY</th>                                      <td>   19.7775</td> <td>   12.350</td> <td>    1.601</td> <td> 0.110</td> <td>   -4.477</td> <td>   44.032</td>\n",
              "</tr>\n",
              "<tr>\n",
              "  <th>job_state_LA</th>                                      <td>   -6.1211</td> <td>   13.044</td> <td>   -0.469</td> <td> 0.639</td> <td>  -31.739</td> <td>   19.497</td>\n",
              "</tr>\n",
              "<tr>\n",
              "  <th>job_state_MA</th>                                      <td>    2.8060</td> <td>    3.868</td> <td>    0.725</td> <td> 0.469</td> <td>   -4.791</td> <td>   10.403</td>\n",
              "</tr>\n",
              "<tr>\n",
              "  <th>job_state_MD</th>                                      <td>    7.9012</td> <td>    4.904</td> <td>    1.611</td> <td> 0.108</td> <td>   -1.730</td> <td>   17.532</td>\n",
              "</tr>\n",
              "<tr>\n",
              "  <th>job_state_MI</th>                                      <td>    7.5101</td> <td>   12.322</td> <td>    0.609</td> <td> 0.542</td> <td>  -16.689</td> <td>   31.710</td>\n",
              "</tr>\n",
              "<tr>\n",
              "  <th>job_state_MN</th>                                      <td>    8.3275</td> <td>   17.255</td> <td>    0.483</td> <td> 0.630</td> <td>  -25.561</td> <td>   42.216</td>\n",
              "</tr>\n",
              "<tr>\n",
              "  <th>job_state_MO</th>                                      <td>    9.6108</td> <td>    9.753</td> <td>    0.985</td> <td> 0.325</td> <td>   -9.544</td> <td>   28.766</td>\n",
              "</tr>\n",
              "<tr>\n",
              "  <th>job_state_NC</th>                                      <td>   -3.9969</td> <td>    6.723</td> <td>   -0.595</td> <td> 0.552</td> <td>  -17.200</td> <td>    9.207</td>\n",
              "</tr>\n",
              "<tr>\n",
              "  <th>job_state_NE</th>                                      <td>   -3.0939</td> <td>   13.448</td> <td>   -0.230</td> <td> 0.818</td> <td>  -29.505</td> <td>   23.317</td>\n",
              "</tr>\n",
              "<tr>\n",
              "  <th>job_state_NJ</th>                                      <td>    1.3043</td> <td>    6.797</td> <td>    0.192</td> <td> 0.848</td> <td>  -12.044</td> <td>   14.653</td>\n",
              "</tr>\n",
              "<tr>\n",
              "  <th>job_state_NM</th>                                      <td>  -30.3770</td> <td>   14.464</td> <td>   -2.100</td> <td> 0.036</td> <td>  -58.784</td> <td>   -1.970</td>\n",
              "</tr>\n",
              "<tr>\n",
              "  <th>job_state_NY</th>                                      <td>    5.8213</td> <td>    4.023</td> <td>    1.447</td> <td> 0.148</td> <td>   -2.079</td> <td>   13.722</td>\n",
              "</tr>\n",
              "<tr>\n",
              "  <th>job_state_OH</th>                                      <td>   -0.4026</td> <td>    8.167</td> <td>   -0.049</td> <td> 0.961</td> <td>  -16.442</td> <td>   15.637</td>\n",
              "</tr>\n",
              "<tr>\n",
              "  <th>job_state_OR</th>                                      <td>    2.2331</td> <td>   12.617</td> <td>    0.177</td> <td> 0.860</td> <td>  -22.546</td> <td>   27.012</td>\n",
              "</tr>\n",
              "<tr>\n",
              "  <th>job_state_PA</th>                                      <td>    9.4870</td> <td>    7.238</td> <td>    1.311</td> <td> 0.190</td> <td>   -4.727</td> <td>   23.701</td>\n",
              "</tr>\n",
              "<tr>\n",
              "  <th>job_state_RI</th>                                      <td>   39.5259</td> <td>   24.669</td> <td>    1.602</td> <td> 0.110</td> <td>   -8.922</td> <td>   87.974</td>\n",
              "</tr>\n",
              "<tr>\n",
              "  <th>job_state_SC</th>                                      <td>   30.6028</td> <td>   29.310</td> <td>    1.044</td> <td> 0.297</td> <td>  -26.961</td> <td>   88.166</td>\n",
              "</tr>\n",
              "<tr>\n",
              "  <th>job_state_TN</th>                                      <td>   -5.9146</td> <td>    9.231</td> <td>   -0.641</td> <td> 0.522</td> <td>  -24.043</td> <td>   12.214</td>\n",
              "</tr>\n",
              "<tr>\n",
              "  <th>job_state_TX</th>                                      <td>    0.5465</td> <td>    5.637</td> <td>    0.097</td> <td> 0.923</td> <td>  -10.524</td> <td>   11.617</td>\n",
              "</tr>\n",
              "<tr>\n",
              "  <th>job_state_UT</th>                                      <td>    3.2197</td> <td>   14.823</td> <td>    0.217</td> <td> 0.828</td> <td>  -25.891</td> <td>   32.331</td>\n",
              "</tr>\n",
              "<tr>\n",
              "  <th>job_state_VA</th>                                      <td>   -0.0466</td> <td>    5.006</td> <td>   -0.009</td> <td> 0.993</td> <td>   -9.878</td> <td>    9.784</td>\n",
              "</tr>\n",
              "<tr>\n",
              "  <th>job_state_WA</th>                                      <td>   12.6792</td> <td>    8.132</td> <td>    1.559</td> <td> 0.119</td> <td>   -3.291</td> <td>   28.650</td>\n",
              "</tr>\n",
              "<tr>\n",
              "  <th>job_state_WI</th>                                      <td>   -4.1034</td> <td>   10.099</td> <td>   -0.406</td> <td> 0.685</td> <td>  -23.936</td> <td>   15.730</td>\n",
              "</tr>\n",
              "<tr>\n",
              "  <th>job_simp_analyst</th>                                  <td>  -31.3572</td> <td>    3.357</td> <td>   -9.341</td> <td> 0.000</td> <td>  -37.950</td> <td>  -24.764</td>\n",
              "</tr>\n",
              "<tr>\n",
              "  <th>job_simp_data engineer</th>                            <td>    1.9860</td> <td>    3.078</td> <td>    0.645</td> <td> 0.519</td> <td>   -4.059</td> <td>    8.031</td>\n",
              "</tr>\n",
              "<tr>\n",
              "  <th>job_simp_data scientist</th>                           <td>    8.1132</td> <td>    2.523</td> <td>    3.216</td> <td> 0.001</td> <td>    3.158</td> <td>   13.068</td>\n",
              "</tr>\n",
              "<tr>\n",
              "  <th>job_simp_director</th>                                 <td>   68.7865</td> <td>    6.569</td> <td>   10.472</td> <td> 0.000</td> <td>   55.886</td> <td>   81.687</td>\n",
              "</tr>\n",
              "<tr>\n",
              "  <th>job_simp_manager</th>                                  <td>  -14.5637</td> <td>    5.562</td> <td>   -2.618</td> <td> 0.009</td> <td>  -25.487</td> <td>   -3.640</td>\n",
              "</tr>\n",
              "<tr>\n",
              "  <th>job_simp_mle</th>                                      <td>   21.7716</td> <td>    6.027</td> <td>    3.612</td> <td> 0.000</td> <td>    9.935</td> <td>   33.608</td>\n",
              "</tr>\n",
              "<tr>\n",
              "  <th>job_simp_na</th>                                       <td>  -11.0788</td> <td>    2.984</td> <td>   -3.712</td> <td> 0.000</td> <td>  -16.940</td> <td>   -5.218</td>\n",
              "</tr>\n",
              "<tr>\n",
              "  <th>seniority_jr</th>                                      <td>   12.1591</td> <td>   13.294</td> <td>    0.915</td> <td> 0.361</td> <td>  -13.950</td> <td>   38.268</td>\n",
              "</tr>\n",
              "<tr>\n",
              "  <th>seniority_na</th>                                      <td>    2.7876</td> <td>    5.147</td> <td>    0.542</td> <td> 0.588</td> <td>   -7.320</td> <td>   12.896</td>\n",
              "</tr>\n",
              "<tr>\n",
              "  <th>seniority_senior</th>                                  <td>   28.7110</td> <td>    5.308</td> <td>    5.409</td> <td> 0.000</td> <td>   18.286</td> <td>   39.136</td>\n",
              "</tr>\n",
              "</table>\n",
              "<table class=\"simpletable\">\n",
              "<tr>\n",
              "  <th>Omnibus:</th>       <td>71.917</td> <th>  Durbin-Watson:     </th> <td>   2.048</td>\n",
              "</tr>\n",
              "<tr>\n",
              "  <th>Prob(Omnibus):</th> <td> 0.000</td> <th>  Jarque-Bera (JB):  </th> <td> 301.911</td>\n",
              "</tr>\n",
              "<tr>\n",
              "  <th>Skew:</th>          <td> 0.336</td> <th>  Prob(JB):          </th> <td>2.76e-66</td>\n",
              "</tr>\n",
              "<tr>\n",
              "  <th>Kurtosis:</th>      <td> 6.052</td> <th>  Cond. No.          </th> <td>1.28e+19</td>\n",
              "</tr>\n",
              "</table><br/><br/>Warnings:<br/>[1] Standard Errors assume that the covariance matrix of the errors is correctly specified.<br/>[2] The smallest eigenvalue is 7.83e-29. This might indicate that there are<br/>strong multicollinearity problems or that the design matrix is singular."
            ],
            "text/plain": [
              "<class 'statsmodels.iolib.summary.Summary'>\n",
              "\"\"\"\n",
              "                            OLS Regression Results                            \n",
              "==============================================================================\n",
              "Dep. Variable:                      y   R-squared:                       0.708\n",
              "Model:                            OLS   Adj. R-squared:                  0.639\n",
              "Method:                 Least Squares   F-statistic:                     10.30\n",
              "Date:                Mon, 27 Dec 2021   Prob (F-statistic):           4.63e-95\n",
              "Time:                        07:25:07   Log-Likelihood:                -3311.7\n",
              "No. Observations:                 742   AIC:                             6907.\n",
              "Df Residuals:                     600   BIC:                             7562.\n",
              "Df Model:                         141                                         \n",
              "Covariance Type:            nonrobust                                         \n",
              "=====================================================================================================================\n",
              "                                                        coef    std err          t      P>|t|      [0.025      0.975]\n",
              "---------------------------------------------------------------------------------------------------------------------\n",
              "const                                                43.6577      6.710      6.507      0.000      30.480      56.835\n",
              "Rating                                                3.5959      1.935      1.859      0.064      -0.204       7.396\n",
              "num_comp                                              2.2513      0.867      2.595      0.010       0.548       3.955\n",
              "hourly                                              -36.4429      9.145     -3.985      0.000     -54.402     -18.483\n",
              "employer_provided                                    31.4893     11.500      2.738      0.006       8.905      54.074\n",
              "same_state                                            2.5077      2.614      0.959      0.338      -2.627       7.642\n",
              "age                                                   0.0351      0.030      1.169      0.243      -0.024       0.094\n",
              "python_yn                                             8.0632      2.493      3.235      0.001       3.168      12.959\n",
              "aws                                                   1.0365      2.699      0.384      0.701      -4.263       6.336\n",
              "excel                                                -0.3853      2.264     -0.170      0.865      -4.831       4.060\n",
              "desc_len                                             -0.0001      0.001     -0.184      0.854      -0.002       0.001\n",
              "Size_-1                                              13.5937      8.622      1.577      0.115      -3.338      30.526\n",
              "Size_1 to 50 employees                                1.1119      6.496      0.171      0.864     -11.645      13.869\n",
              "Size_10000+ employees                                -2.8045      5.782     -0.485      0.628     -14.159       8.550\n",
              "Size_1001 to 5000 employees                           6.0688      3.860      1.572      0.116      -1.512      13.650\n",
              "Size_201 to 500 employees                             2.2853      3.867      0.591      0.555      -5.310       9.881\n",
              "Size_5001 to 10000 employees                         -3.8863      5.436     -0.715      0.475     -14.562       6.789\n",
              "Size_501 to 1000 employees                            2.1933      4.056      0.541      0.589      -5.772      10.159\n",
              "Size_51 to 200 employees                              4.1809      4.417      0.947      0.344      -4.494      12.856\n",
              "Size_Unknown                                         20.9145     13.980      1.496      0.135      -6.540      48.369\n",
              "Type of ownership_-1                                 13.5937      8.622      1.577      0.115      -3.338      30.526\n",
              "Type of ownership_College / University                6.5431     17.714      0.369      0.712     -28.245      41.331\n",
              "Type of ownership_Company - Private                   8.5830      5.234      1.640      0.102      -1.697      18.863\n",
              "Type of ownership_Company - Public                   13.2956      5.694      2.335      0.020       2.113      24.478\n",
              "Type of ownership_Government                        -15.4355     15.268     -1.011      0.312     -45.421      14.550\n",
              "Type of ownership_Hospital                           -7.2100      9.951     -0.725      0.469     -26.753      12.333\n",
              "Type of ownership_Nonprofit Organization             -9.7799      6.704     -1.459      0.145     -22.946       3.387\n",
              "Type of ownership_Other Organization                 -5.8549     14.317     -0.409      0.683     -33.973      22.263\n",
              "Type of ownership_School / School District           -5.9079     23.768     -0.249      0.804     -52.586      40.770\n",
              "Type of ownership_Subsidiary or Business Segment     12.7813      6.922      1.846      0.065      -0.813      26.376\n",
              "Type of ownership_Unknown                            33.0491     28.580      1.156      0.248     -23.079      89.177\n",
              "Industry_-1                                           5.7763      7.923      0.729      0.466      -9.784      21.336\n",
              "Industry_Accounting                                   2.1991     13.379      0.164      0.869     -24.077      28.475\n",
              "Industry_Advertising & Marketing                     11.6271      5.968      1.948      0.052      -0.095      23.349\n",
              "Industry_Aerospace & Defense                          5.5710      3.106      1.794      0.073      -0.529      11.671\n",
              "Industry_Architectural & Engineering Services       -32.3005     15.909     -2.030      0.043     -63.545      -1.056\n",
              "Industry_Auctions & Galleries                         9.2998     22.858      0.407      0.684     -35.593      54.192\n",
              "Industry_Banks & Credit Unions                      -16.9261      8.037     -2.106      0.036     -32.711      -1.142\n",
              "Industry_Beauty & Personal Accessories Stores        15.3727     21.542      0.714      0.476     -26.933      57.679\n",
              "Industry_Biotech & Pharmaceuticals                    6.4242      2.043      3.145      0.002       2.412      10.436\n",
              "Industry_Brokerage Services                          28.2305     15.498      1.822      0.069      -2.206      58.667\n",
              "Industry_Colleges & Universities                     10.8439     12.966      0.836      0.403     -14.620      36.308\n",
              "Industry_Computer Hardware & Software                -0.9062      3.246     -0.279      0.780      -7.280       5.468\n",
              "Industry_Construction                               -15.6657     10.538     -1.487      0.138     -36.362       5.030\n",
              "Industry_Consulting                                  12.8821      5.889      2.187      0.029       1.316      24.449\n",
              "Industry_Consumer Product Rental                     -2.5133     13.001     -0.193      0.847     -28.047      23.021\n",
              "Industry_Consumer Products Manufacturing             13.9898      9.813      1.426      0.154      -5.281      33.261\n",
              "Industry_Department, Clothing, & Shoe Stores          4.7257     11.571      0.408      0.683     -17.999      27.450\n",
              "Industry_Education Training Services                -23.3037     12.481     -1.867      0.062     -47.816       1.208\n",
              "Industry_Energy                                      -4.0706      7.648     -0.532      0.595     -19.090      10.949\n",
              "Industry_Enterprise Software & Network Solutions      9.5405      3.584      2.662      0.008       2.502      16.579\n",
              "Industry_Farm Support Services                       -0.9100     12.642     -0.072      0.943     -25.738      23.918\n",
              "Industry_Federal Agencies                             8.0396      5.259      1.529      0.127      -2.288      18.367\n",
              "Industry_Financial Analytics & Research               0.3327      9.188      0.036      0.971     -17.712      18.378\n",
              "Industry_Financial Transaction Processing           -17.6747     12.854     -1.375      0.170     -42.918       7.569\n",
              "Industry_Food & Beverage Manufacturing               -3.1508     11.569     -0.272      0.785     -25.872      19.570\n",
              "Industry_Gambling                                    -9.1835      6.511     -1.410      0.159     -21.971       3.604\n",
              "Industry_Gas Stations                               -24.3942     15.526     -1.571      0.117     -54.886       6.098\n",
              "Industry_Health Care Products Manufacturing          21.1794     22.085      0.959      0.338     -22.194      64.552\n",
              "Industry_Health Care Services & Hospitals             5.9049      2.907      2.031      0.043       0.195      11.614\n",
              "Industry_Health, Beauty, & Fitness                   -2.1009     17.402     -0.121      0.904     -36.278      32.076\n",
              "Industry_IT Services                                  1.2725      3.566      0.357      0.721      -5.731       8.276\n",
              "Industry_Industrial Manufacturing                   -13.6982     12.807     -1.070      0.285     -38.850      11.454\n",
              "Industry_Insurance Agencies & Brokerages             -3.7959      6.976     -0.544      0.587     -17.495       9.904\n",
              "Industry_Insurance Carriers                           5.5060      4.469      1.232      0.218      -3.271      14.283\n",
              "Industry_Internet                                     0.1831      4.414      0.041      0.967      -8.486       8.852\n",
              "Industry_Investment Banking & Asset Management       35.9143     12.073      2.975      0.003      12.204      59.624\n",
              "Industry_K-12 Education                              10.1361     14.766      0.686      0.493     -18.863      39.135\n",
              "Industry_Lending                                     -1.5338      9.853     -0.156      0.876     -20.885      17.818\n",
              "Industry_Logistics & Supply Chain                     1.5259     13.383      0.114      0.909     -24.758      27.810\n",
              "Industry_Metals Brokers                              -7.9153     15.595     -0.508      0.612     -38.544      22.713\n",
              "Industry_Mining                                      -3.4575     17.948     -0.193      0.847     -38.706      31.791\n",
              "Industry_Motion Picture Production & Distribution    46.1804     19.578      2.359      0.019       7.731      84.630\n",
              "Industry_Other Retail Stores                         40.1019     21.672      1.850      0.065      -2.460      82.664\n",
              "Industry_Real Estate                                 -2.3258      4.956     -0.469      0.639     -12.059       7.407\n",
              "Industry_Religious Organizations                     25.9297     13.697      1.893      0.059      -0.970      52.830\n",
              "Industry_Research & Development                      -3.0764      6.535     -0.471      0.638     -15.912       9.759\n",
              "Industry_Security Services                           14.1757      9.743      1.455      0.146      -4.959      33.311\n",
              "Industry_Social Assistance                          -11.1123     11.774     -0.944      0.346     -34.236      12.012\n",
              "Industry_Sporting Goods Stores                      -37.2211     17.839     -2.086      0.037     -72.256      -2.186\n",
              "Industry_Staffing & Outsourcing                      -5.3904     11.008     -0.490      0.625     -27.009      16.228\n",
              "Industry_Stock Exchanges                            -15.1430      7.884     -1.921      0.055     -30.626       0.340\n",
              "Industry_TV Broadcast & Cable Networks               -0.1537     15.506     -0.010      0.992     -30.607      30.300\n",
              "Industry_Telecommunications Manufacturing             4.1085     13.654      0.301      0.764     -22.706      30.923\n",
              "Industry_Telecommunications Services                  0.0403     11.246      0.004      0.997     -22.047      22.127\n",
              "Industry_Transportation Equipment Manufacturing     -19.8819     23.581     -0.843      0.399     -66.193      26.429\n",
              "Industry_Transportation Management                  -20.5100     13.987     -1.466      0.143     -47.979       6.959\n",
              "Industry_Travel Agencies                             -5.4751      5.247     -1.043      0.297     -15.781       4.830\n",
              "Industry_Trucking                                    22.7129     19.826      1.146      0.252     -16.223      61.649\n",
              "Industry_Video Games                                -30.1161     14.419     -2.089      0.037     -58.434      -1.798\n",
              "Industry_Wholesale                                   -2.1618     13.093     -0.165      0.869     -27.876      23.553\n",
              "Sector_-1                                             5.7763      7.923      0.729      0.466      -9.784      21.336\n",
              "Sector_Accounting & Legal                             2.1991     13.379      0.164      0.869     -24.077      28.475\n",
              "Sector_Aerospace & Defense                            5.5710      3.106      1.794      0.073      -0.529      11.671\n",
              "Sector_Agriculture & Forestry                        -0.9100     12.642     -0.072      0.943     -25.738      23.918\n",
              "Sector_Arts, Entertainment & Recreation              -9.1835      6.511     -1.410      0.159     -21.971       3.604\n",
              "Sector_Biotech & Pharmaceuticals                      6.4242      2.043      3.145      0.002       2.412      10.436\n",
              "Sector_Business Services                             -4.2444      4.209     -1.008      0.314     -12.510       4.022\n",
              "Sector_Construction, Repair & Maintenance           -15.6657     10.538     -1.487      0.138     -36.362       5.030\n",
              "Sector_Consumer Services                             -4.6142      9.408     -0.490      0.624     -23.090      13.862\n",
              "Sector_Education                                     -2.3237      6.804     -0.341      0.733     -15.687      11.040\n",
              "Sector_Finance                                       13.1999      4.515      2.924      0.004       4.333      22.067\n",
              "Sector_Government                                     8.0396      5.259      1.529      0.127      -2.288      18.367\n",
              "Sector_Health Care                                    5.9049      2.907      2.031      0.043       0.195      11.614\n",
              "Sector_Information Technology                        10.0899      2.761      3.654      0.000       4.667      15.513\n",
              "Sector_Insurance                                      1.7100      3.936      0.434      0.664      -6.021       9.441\n",
              "Sector_Manufacturing                                 -1.5617      6.903     -0.226      0.821     -15.119      11.996\n",
              "Sector_Media                                         15.9106      8.718      1.825      0.068      -1.211      33.032\n",
              "Sector_Mining & Metals                              -11.3729     10.687     -1.064      0.288     -32.361       9.616\n",
              "Sector_Non-Profit                                    14.8174      8.889      1.667      0.096      -2.640      32.275\n",
              "Sector_Oil, Gas, Energy & Utilities                  -4.0706      7.648     -0.532      0.595     -19.090      10.949\n",
              "Sector_Real Estate                                   -2.3258      4.956     -0.469      0.639     -12.059       7.407\n",
              "Sector_Retail                                         7.8849      7.161      1.101      0.271      -6.178      21.948\n",
              "Sector_Telecommunications                             4.1488      7.759      0.535      0.593     -11.090      19.387\n",
              "Sector_Transportation & Logistics                     3.7288      8.006      0.466      0.642     -11.995      19.453\n",
              "Sector_Travel & Tourism                              -5.4751      5.247     -1.043      0.297     -15.781       4.830\n",
              "Revenue_$1 to $2 billion (USD)                        2.9127      4.796      0.607      0.544      -6.507      12.333\n",
              "Revenue_$1 to $5 million (USD)                       -5.4023     10.894     -0.496      0.620     -26.797      15.993\n",
              "Revenue_$10 to $25 million (USD)                     -4.8833      5.218     -0.936      0.350     -15.130       5.363\n",
              "Revenue_$10+ billion (USD)                           10.2980      6.373      1.616      0.107      -2.218      22.814\n",
              "Revenue_$100 to $500 million (USD)                   -5.1775      4.051     -1.278      0.202     -13.133       2.778\n",
              "Revenue_$2 to $5 billion (USD)                        0.0682      6.230      0.011      0.991     -12.168      12.304\n",
              "Revenue_$25 to $50 million (USD)                     -5.2953      5.361     -0.988      0.324     -15.824       5.233\n",
              "Revenue_$5 to $10 billion (USD)                       6.6291      7.851      0.844      0.399      -8.789      22.047\n",
              "Revenue_$5 to $10 million (USD)                      31.7516      8.309      3.821      0.000      15.433      48.071\n",
              "Revenue_$50 to $100 million (USD)                     5.4805      4.943      1.109      0.268      -4.228      15.189\n",
              "Revenue_$500 million to $1 billion (USD)             -1.8545      5.280     -0.351      0.726     -12.224       8.515\n",
              "Revenue_-1                                           13.5937      8.622      1.577      0.115      -3.338      30.526\n",
              "Revenue_Less than $1 million (USD)                   -4.1042     15.157     -0.271      0.787     -33.872      25.663\n",
              "Revenue_Unknown / Non-Applicable                     -0.3590      3.070     -0.117      0.907      -6.389       5.671\n",
              "job_state_AL                                         -5.9558     10.457     -0.570      0.569     -26.492      14.580\n",
              "job_state_AZ                                        -14.0735      8.615     -1.634      0.103     -30.994       2.847\n",
              "job_state_CA                                         26.6851      3.148      8.478      0.000      20.503      32.867\n",
              "job_state_CO                                          7.9220      8.284      0.956      0.339      -8.347      24.190\n",
              "job_state_CT                                        -23.6531     11.353     -2.083      0.038     -45.949      -1.357\n",
              "job_state_DC                                         13.7951      7.923      1.741      0.082      -1.765      29.355\n",
              "job_state_DE                                          9.2754     13.858      0.669      0.504     -17.941      36.492\n",
              "job_state_FL                                        -15.8400      7.628     -2.077      0.038     -30.820      -0.860\n",
              "job_state_GA                                        -18.4906     10.109     -1.829      0.068     -38.343       1.362\n",
              "job_state_IA                                         -2.3941     12.417     -0.193      0.847     -26.779      21.991\n",
              "job_state_ID                                        -24.4876     18.276     -1.340      0.181     -60.379      11.404\n",
              "job_state_IL                                          9.0771      5.030      1.805      0.072      -0.801      18.955\n",
              "job_state_IN                                        -10.3561      8.806     -1.176      0.240     -27.650       6.938\n",
              "job_state_KS                                        -15.1430      7.884     -1.921      0.055     -30.626       0.340\n",
              "job_state_KY                                         19.7775     12.350      1.601      0.110      -4.477      44.032\n",
              "job_state_LA                                         -6.1211     13.044     -0.469      0.639     -31.739      19.497\n",
              "job_state_MA                                          2.8060      3.868      0.725      0.469      -4.791      10.403\n",
              "job_state_MD                                          7.9012      4.904      1.611      0.108      -1.730      17.532\n",
              "job_state_MI                                          7.5101     12.322      0.609      0.542     -16.689      31.710\n",
              "job_state_MN                                          8.3275     17.255      0.483      0.630     -25.561      42.216\n",
              "job_state_MO                                          9.6108      9.753      0.985      0.325      -9.544      28.766\n",
              "job_state_NC                                         -3.9969      6.723     -0.595      0.552     -17.200       9.207\n",
              "job_state_NE                                         -3.0939     13.448     -0.230      0.818     -29.505      23.317\n",
              "job_state_NJ                                          1.3043      6.797      0.192      0.848     -12.044      14.653\n",
              "job_state_NM                                        -30.3770     14.464     -2.100      0.036     -58.784      -1.970\n",
              "job_state_NY                                          5.8213      4.023      1.447      0.148      -2.079      13.722\n",
              "job_state_OH                                         -0.4026      8.167     -0.049      0.961     -16.442      15.637\n",
              "job_state_OR                                          2.2331     12.617      0.177      0.860     -22.546      27.012\n",
              "job_state_PA                                          9.4870      7.238      1.311      0.190      -4.727      23.701\n",
              "job_state_RI                                         39.5259     24.669      1.602      0.110      -8.922      87.974\n",
              "job_state_SC                                         30.6028     29.310      1.044      0.297     -26.961      88.166\n",
              "job_state_TN                                         -5.9146      9.231     -0.641      0.522     -24.043      12.214\n",
              "job_state_TX                                          0.5465      5.637      0.097      0.923     -10.524      11.617\n",
              "job_state_UT                                          3.2197     14.823      0.217      0.828     -25.891      32.331\n",
              "job_state_VA                                         -0.0466      5.006     -0.009      0.993      -9.878       9.784\n",
              "job_state_WA                                         12.6792      8.132      1.559      0.119      -3.291      28.650\n",
              "job_state_WI                                         -4.1034     10.099     -0.406      0.685     -23.936      15.730\n",
              "job_simp_analyst                                    -31.3572      3.357     -9.341      0.000     -37.950     -24.764\n",
              "job_simp_data engineer                                1.9860      3.078      0.645      0.519      -4.059       8.031\n",
              "job_simp_data scientist                               8.1132      2.523      3.216      0.001       3.158      13.068\n",
              "job_simp_director                                    68.7865      6.569     10.472      0.000      55.886      81.687\n",
              "job_simp_manager                                    -14.5637      5.562     -2.618      0.009     -25.487      -3.640\n",
              "job_simp_mle                                         21.7716      6.027      3.612      0.000       9.935      33.608\n",
              "job_simp_na                                         -11.0788      2.984     -3.712      0.000     -16.940      -5.218\n",
              "seniority_jr                                         12.1591     13.294      0.915      0.361     -13.950      38.268\n",
              "seniority_na                                          2.7876      5.147      0.542      0.588      -7.320      12.896\n",
              "seniority_senior                                     28.7110      5.308      5.409      0.000      18.286      39.136\n",
              "==============================================================================\n",
              "Omnibus:                       71.917   Durbin-Watson:                   2.048\n",
              "Prob(Omnibus):                  0.000   Jarque-Bera (JB):              301.911\n",
              "Skew:                           0.336   Prob(JB):                     2.76e-66\n",
              "Kurtosis:                       6.052   Cond. No.                     1.28e+19\n",
              "==============================================================================\n",
              "\n",
              "Warnings:\n",
              "[1] Standard Errors assume that the covariance matrix of the errors is correctly specified.\n",
              "[2] The smallest eigenvalue is 7.83e-29. This might indicate that there are\n",
              "strong multicollinearity problems or that the design matrix is singular.\n",
              "\"\"\""
            ]
          },
          "metadata": {},
          "execution_count": 30
        }
      ]
    },
    {
      "cell_type": "code",
      "source": [
        "lm = LinearRegression()\n",
        "lm.fit(X_train, y_train)"
      ],
      "metadata": {
        "colab": {
          "base_uri": "https://localhost:8080/"
        },
        "id": "aoBS9-kjt8I-",
        "outputId": "ab8180f9-b8e7-420e-d56f-8946d0290d58"
      },
      "execution_count": 31,
      "outputs": [
        {
          "output_type": "execute_result",
          "data": {
            "text/plain": [
              "LinearRegression()"
            ]
          },
          "metadata": {},
          "execution_count": 31
        }
      ]
    },
    {
      "cell_type": "code",
      "source": [
        "np.mean(cross_val_score(lm,X_train,y_train, scoring = 'neg_mean_absolute_error', cv= 3))"
      ],
      "metadata": {
        "colab": {
          "base_uri": "https://localhost:8080/"
        },
        "id": "TuMHnwhmvrlg",
        "outputId": "5dc62351-0459-4137-8f3e-4119de2d55ec"
      },
      "execution_count": 33,
      "outputs": [
        {
          "output_type": "execute_result",
          "data": {
            "text/plain": [
              "-40845488.727264695"
            ]
          },
          "metadata": {},
          "execution_count": 33
        }
      ]
    },
    {
      "cell_type": "code",
      "source": [
        "# Lasso Regression\n",
        "lm_l = Lasso(alpha = .13)\n",
        "lm_l.fit(X_train, y_train)\n",
        "np.mean(cross_val_score(lm_l,X_train,y_train, scoring = 'neg_mean_absolute_error', cv= 3))"
      ],
      "metadata": {
        "colab": {
          "base_uri": "https://localhost:8080/"
        },
        "id": "ebeSZcjQweKV",
        "outputId": "1042c1de-e967-46d6-e7cf-ab809f3916c0"
      },
      "execution_count": 57,
      "outputs": [
        {
          "output_type": "execute_result",
          "data": {
            "text/plain": [
              "-19.17329419284354"
            ]
          },
          "metadata": {},
          "execution_count": 57
        }
      ]
    },
    {
      "cell_type": "code",
      "source": [
        "alpha = []\n",
        "error = []\n",
        "\n",
        "for i in range(1,100):\n",
        "  alpha.append(i/100)\n",
        "  lml = Lasso(alpha=(i/100))\n",
        "  error.append(np.mean(cross_val_score(lml,X_train,y_train, scoring = 'neg_mean_absolute_error', cv= 3)))"
      ],
      "metadata": {
        "id": "t195Xe3Lyws7"
      },
      "execution_count": 38,
      "outputs": []
    },
    {
      "cell_type": "code",
      "source": [
        "plt.plot(alpha, error)"
      ],
      "metadata": {
        "colab": {
          "base_uri": "https://localhost:8080/",
          "height": 282
        },
        "id": "crqn6sBzzhpZ",
        "outputId": "d39d37ef-649d-44e6-a423-b8511cc1c8e2"
      },
      "execution_count": 39,
      "outputs": [
        {
          "output_type": "execute_result",
          "data": {
            "text/plain": [
              "[<matplotlib.lines.Line2D at 0x7f9b79d1d6d0>]"
            ]
          },
          "metadata": {},
          "execution_count": 39
        },
        {
          "output_type": "display_data",
          "data": {
            "image/png": "[encoded data removed]",
            "text/plain": [
              "<Figure size 432x288 with 1 Axes>"
            ]
          },
          "metadata": {
            "needs_background": "light"
          }
        }
      ]
    },
    {
      "cell_type": "code",
      "source": [
        "err = tuple(zip(alpha,error))\n",
        "df_err = pd.DataFrame(err, columns = ['alpha', 'error'])\n",
        "df_err[df_err.error == max(df_err.error)]"
      ],
      "metadata": {
        "colab": {
          "base_uri": "https://localhost:8080/",
          "height": 81
        },
        "id": "Un-Xgz0yzmOB",
        "outputId": "0b36f10b-1401-48fa-e742-a64063bec67d"
      },
      "execution_count": 45,
      "outputs": [
        {
          "output_type": "execute_result",
          "data": {
            "text/html": [
              "\n",
              "  <div id=\"df-82a5480b-e43a-481c-a8c1-23751a47df77\">\n",
              "    <div class=\"colab-df-container\">\n",
              "      <div>\n",
              "<style scoped>\n",
              "    .dataframe tbody tr th:only-of-type {\n",
              "        vertical-align: middle;\n",
              "    }\n",
              "\n",
              "    .dataframe tbody tr th {\n",
              "        vertical-align: top;\n",
              "    }\n",
              "\n",
              "    .dataframe thead th {\n",
              "        text-align: right;\n",
              "    }\n",
              "</style>\n",
              "<table border=\"1\" class=\"dataframe\">\n",
              "  <thead>\n",
              "    <tr style=\"text-align: right;\">\n",
              "      <th></th>\n",
              "      <th>alpha</th>\n",
              "      <th>error</th>\n",
              "    </tr>\n",
              "  </thead>\n",
              "  <tbody>\n",
              "    <tr>\n",
              "      <th>11</th>\n",
              "      <td>0.12</td>\n",
              "      <td>-19.169465</td>\n",
              "    </tr>\n",
              "  </tbody>\n",
              "</table>\n",
              "</div>\n",
              "      <button class=\"colab-df-convert\" onclick=\"convertToInteractive('df-82a5480b-e43a-481c-a8c1-23751a47df77')\"\n",
              "              title=\"Convert this dataframe to an interactive table.\"\n",
              "              style=\"display:none;\">\n",
              "        \n",
              "  <svg xmlns=\"http://www.w3.org/2000/svg\" height=\"24px\"viewBox=\"0 0 24 24\"\n",
              "       width=\"24px\">\n",
              "    <path d=\"M0 0h24v24H0V0z\" fill=\"none\"/>\n",
              "    <path d=\"M18.56 5.44l.94 2.06.94-2.06 2.06-.94-2.06-.94-.94-2.06-.94 2.06-2.06.94zm-11 1L8.5 8.5l.94-2.06 2.06-.94-2.06-.94L8.5 2.5l-.94 2.06-2.06.94zm10 10l.94 2.06.94-2.06 2.06-.94-2.06-.94-.94-2.06-.94 2.06-2.06.94z\"/><path d=\"M17.41 7.96l-1.37-1.37c-.4-.4-.92-.59-1.43-.59-.52 0-1.04.2-1.43.59L10.3 9.45l-7.72 7.72c-.78.78-.78 2.05 0 2.83L4 21.41c.39.39.9.59 1.41.59.51 0 1.02-.2 1.41-.59l7.78-7.78 2.81-2.81c.8-.78.8-2.07 0-2.86zM5.41 20L4 18.59l7.72-7.72 1.47 1.35L5.41 20z\"/>\n",
              "  </svg>\n",
              "      </button>\n",
              "      \n",
              "  <style>\n",
              "    .colab-df-container {\n",
              "      display:flex;\n",
              "      flex-wrap:wrap;\n",
              "      gap: 12px;\n",
              "    }\n",
              "\n",
              "    .colab-df-convert {\n",
              "      background-color: #E8F0FE;\n",
              "      border: none;\n",
              "      border-radius: 50%;\n",
              "      cursor: pointer;\n",
              "      display: none;\n",
              "      fill: #1967D2;\n",
              "      height: 32px;\n",
              "      padding: 0 0 0 0;\n",
              "      width: 32px;\n",
              "    }\n",
              "\n",
              "    .colab-df-convert:hover {\n",
              "      background-color: #E2EBFA;\n",
              "      box-shadow: 0px 1px 2px rgba(60, 64, 67, 0.3), 0px 1px 3px 1px rgba(60, 64, 67, 0.15);\n",
              "      fill: #174EA6;\n",
              "    }\n",
              "\n",
              "    [theme=dark] .colab-df-convert {\n",
              "      background-color: #3B4455;\n",
              "      fill: #D2E3FC;\n",
              "    }\n",
              "\n",
              "    [theme=dark] .colab-df-convert:hover {\n",
              "      background-color: #434B5C;\n",
              "      box-shadow: 0px 1px 3px 1px rgba(0, 0, 0, 0.15);\n",
              "      filter: drop-shadow(0px 1px 2px rgba(0, 0, 0, 0.3));\n",
              "      fill: #FFFFFF;\n",
              "    }\n",
              "  </style>\n",
              "\n",
              "      <script>\n",
              "        const buttonEl =\n",
              "          document.querySelector('#df-82a5480b-e43a-481c-a8c1-23751a47df77 button.colab-df-convert');\n",
              "        buttonEl.style.display =\n",
              "          google.colab.kernel.accessAllowed ? 'block' : 'none';\n",
              "\n",
              "        async function convertToInteractive(key) {\n",
              "          const element = document.querySelector('#df-82a5480b-e43a-481c-a8c1-23751a47df77');\n",
              "          const dataTable =\n",
              "            await google.colab.kernel.invokeFunction('convertToInteractive',\n",
              "                                                     [key], {});\n",
              "          if (!dataTable) return;\n",
              "\n",
              "          const docLinkHtml = 'Like what you see? Visit the ' +\n",
              "            '<a target=\"_blank\" href=https://colab.research.google.com/notebooks/data_table.ipynb>data table notebook</a>'\n",
              "            + ' to learn more about interactive tables.';\n",
              "          element.innerHTML = '';\n",
              "          dataTable['output_type'] = 'display_data';\n",
              "          await google.colab.output.renderOutput(dataTable, element);\n",
              "          const docLink = document.createElement('div');\n",
              "          docLink.innerHTML = docLinkHtml;\n",
              "          element.appendChild(docLink);\n",
              "        }\n",
              "      </script>\n",
              "    </div>\n",
              "  </div>\n",
              "  "
            ],
            "text/plain": [
              "    alpha      error\n",
              "11   0.12 -19.169465"
            ]
          },
          "metadata": {},
          "execution_count": 45
        }
      ]
    },
    {
      "cell_type": "code",
      "source": [
        "# Random forest\n",
        "rf = RandomForestRegressor()\n",
        "np.mean(cross_val_score(rf, X_train, y_train, scoring = 'neg_mean_absolute_error', cv = 3))"
      ],
      "metadata": {
        "colab": {
          "base_uri": "https://localhost:8080/"
        },
        "id": "w5YykU96z1Q0",
        "outputId": "49659c05-7050-49b1-939f-8d5719660c52"
      },
      "execution_count": 48,
      "outputs": [
        {
          "output_type": "execute_result",
          "data": {
            "text/plain": [
              "-14.826495752790168"
            ]
          },
          "metadata": {},
          "execution_count": 48
        }
      ]
    },
    {
      "cell_type": "code",
      "source": [
        "# Tune model using GridSearchCV\n",
        "parameters = {'n_estimators':range(10,300,10), 'criterion':('mse','mae'), 'max_features':('auto','sqrt','log2')}\n",
        "gs = GridSearchCV(rf, parameters, scoring = 'neg_mean_absolute_error', cv=3)"
      ],
      "metadata": {
        "id": "6Z-X7QODz9h6"
      },
      "execution_count": 50,
      "outputs": []
    },
    {
      "cell_type": "code",
      "source": [
        "gs.fit(X_train, y_train)"
      ],
      "metadata": {
        "id": "nfekAFLO0F2H"
      },
      "execution_count": null,
      "outputs": []
    },
    {
      "cell_type": "code",
      "source": [
        "gs.best_score_"
      ],
      "metadata": {
        "colab": {
          "base_uri": "https://localhost:8080/"
        },
        "id": "qh4swaKx3Erh",
        "outputId": "f2724792-31e1-4216-d268-6fb078887c24"
      },
      "execution_count": 53,
      "outputs": [
        {
          "output_type": "execute_result",
          "data": {
            "text/plain": [
              "-14.795919003913928"
            ]
          },
          "metadata": {},
          "execution_count": 53
        }
      ]
    },
    {
      "cell_type": "code",
      "source": [
        "gs.best_estimator_"
      ],
      "metadata": {
        "colab": {
          "base_uri": "https://localhost:8080/"
        },
        "id": "7y6stg_67Kqm",
        "outputId": "175b62e2-760f-4a1a-f2f7-d207799c3856"
      },
      "execution_count": 54,
      "outputs": [
        {
          "output_type": "execute_result",
          "data": {
            "text/plain": [
              "RandomForestRegressor(criterion='mse', n_estimators=230)"
            ]
          },
          "metadata": {},
          "execution_count": 54
        }
      ]
    },
    {
      "cell_type": "code",
      "source": [
        "# Test ensemble\n",
        "tpred_lm = lm.predict(X_test)\n",
        "tpred_lml = lm_l.predict(X_test)\n",
        "tpred_rf = gs.best_estimator_.predict(X_test)"
      ],
      "metadata": {
        "id": "92y988o-7NHL"
      },
      "execution_count": 59,
      "outputs": []
    },
    {
      "cell_type": "code",
      "source": [
        "mean_absolute_error(y_test, tpred_lm)"
      ],
      "metadata": {
        "colab": {
          "base_uri": "https://localhost:8080/"
        },
        "id": "RKfMYL7x7wPG",
        "outputId": "e4b04b03-7b51-40cd-d0ee-0838676fc243"
      },
      "execution_count": 61,
      "outputs": [
        {
          "output_type": "execute_result",
          "data": {
            "text/plain": [
              "18.57799262177311"
            ]
          },
          "metadata": {},
          "execution_count": 61
        }
      ]
    },
    {
      "cell_type": "code",
      "source": [
        "mean_absolute_error(y_test, tpred_lml)"
      ],
      "metadata": {
        "colab": {
          "base_uri": "https://localhost:8080/"
        },
        "id": "NEVUEPTb9N4t",
        "outputId": "c5c4a8f0-c66f-412b-cfa1-e7a61a426926"
      },
      "execution_count": 62,
      "outputs": [
        {
          "output_type": "execute_result",
          "data": {
            "text/plain": [
              "19.665294131027697"
            ]
          },
          "metadata": {},
          "execution_count": 62
        }
      ]
    },
    {
      "cell_type": "code",
      "source": [
        "mean_absolute_error(y_test, tpred_rf)"
      ],
      "metadata": {
        "colab": {
          "base_uri": "https://localhost:8080/"
        },
        "id": "njXt_mvF9Q5f",
        "outputId": "b90614cf-66a4-400a-cebd-cd414ad2916a"
      },
      "execution_count": 63,
      "outputs": [
        {
          "output_type": "execute_result",
          "data": {
            "text/plain": [
              "10.909395973154362"
            ]
          },
          "metadata": {},
          "execution_count": 63
        }
      ]
    },
    {
      "cell_type": "code",
      "source": [
        "mean_absolute_error(y_test, (tpred_lm+tpred_rf)/2)"
      ],
      "metadata": {
        "colab": {
          "base_uri": "https://localhost:8080/"
        },
        "id": "sGTs9zos9THe",
        "outputId": "411c0a77-f691-421a-f4e9-434fa29ef952"
      },
      "execution_count": 67,
      "outputs": [
        {
          "output_type": "execute_result",
          "data": {
            "text/plain": [
              "13.832947737019827"
            ]
          },
          "metadata": {},
          "execution_count": 67
        }
      ]
    },
    {
      "cell_type": "code",
      "source": [
        ""
      ],
      "metadata": {
        "id": "68FRTarA9ib_"
      },
      "execution_count": null,
      "outputs": []
    }
  ]
}